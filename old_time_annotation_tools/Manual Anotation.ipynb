{
 "cells": [
  {
   "cell_type": "code",
   "execution_count": 1,
   "metadata": {},
   "outputs": [],
   "source": [
    "import os\n",
    "import cv2\n",
    "import numpy as np\n",
    "from typing import Generator\n",
    "import pandas as pd"
   ]
  },
  {
   "attachments": {},
   "cell_type": "markdown",
   "metadata": {},
   "source": [
    "#### Constant variables"
   ]
  },
  {
   "cell_type": "code",
   "execution_count": 2,
   "metadata": {},
   "outputs": [],
   "source": [
    "TRANSFORMED_DATA_103_PATH = \"C:/Users/diogo/Desktop/Tese/Resultados/transformed_coords_103.csv\"\n",
    "VIDEOS_103_DIR_PATH = \"C:/Users/diogo/Desktop/Tese/Dados/Videos/14.03.2022/20220314_1.03_blurred\"\n",
    "SOURCE_VIDEO_PATH = \"C:/Users/diogo/Desktop/Tese/Dados/Videos/14.03.2022/20220314_1.03_blurred/20220314_1.03_1_11_blurred.mp4\"\n",
    "SAVE_IMG_PATH = \"C:/Users/diogo/Desktop/Tese/Resultados/background.jpg\""
   ]
  },
  {
   "attachments": {},
   "cell_type": "markdown",
   "metadata": {},
   "source": [
    "#### Load video and dataframe"
   ]
  },
  {
   "cell_type": "code",
   "execution_count": 3,
   "metadata": {},
   "outputs": [],
   "source": [
    "# load and sort excel data by Customer_id\n",
    "def load_and_sort_df(path):\n",
    "    df = pd.read_csv(path)\n",
    "    return df.sort_values([\"Customer_id\", \"new_frame_id\"], ascending=True, ignore_index=True)\n",
    "\n",
    "# get video capture\n",
    "def get_video_capture(video_path: str) -> cv2.VideoCapture:\n",
    "    return cv2.VideoCapture(video_path)\n",
    "\n",
    "# generate frame list from a video capture\n",
    "def generate_frames(video_capture: cv2.VideoCapture) -> Generator[np.ndarray, None, None]:\n",
    "    while video_capture.isOpened():\n",
    "        success, frame = video_capture.read()\n",
    "        if not success:\n",
    "            break\n",
    "        yield cv2.cvtColor(frame, cv2.COLOR_BGR2RGB)\n",
    "\n",
    "# get image of the store to set as a background\n",
    "def get_background():\n",
    "    video_name = f\"20220314_1.03_1_1_blurred.mp4\"\n",
    "    video_capture = get_video_capture(f\"{VIDEOS_103_DIR_PATH}/{video_name}\")\n",
    "    frame_list = list(generate_frames(video_capture))\n",
    "    return frame_list[0]"
   ]
  },
  {
   "attachments": {},
   "cell_type": "markdown",
   "metadata": {},
   "source": [
    "#### Operations"
   ]
  },
  {
   "cell_type": "code",
   "execution_count": 4,
   "metadata": {},
   "outputs": [],
   "source": [
    "# draw rectangles in store background\n",
    "def draw_bboxes(df, customer):\n",
    "    customer_data = df.loc[df.Customer_id == customer].values.tolist()\n",
    "    image = get_background()\n",
    "\n",
    "    counter = 0\n",
    "    for row in customer_data:\n",
    "        start_point = (int(row[9]), int(row[10]))\n",
    "        end_point = (int(row[11]), int(row[12]))\n",
    "        color = (255, counter, 0)\n",
    "        image = cv2.rectangle(image, start_point, end_point, color, thickness=2)\n",
    "        counter += 10\n",
    "\n",
    "    return image\n",
    "    #cv2.imshow(\"image drawn\", image)\n",
    "    #cv2.waitKey(0)\n",
    "    #cv2.destroyAllWindows()"
   ]
  },
  {
   "attachments": {},
   "cell_type": "markdown",
   "metadata": {},
   "source": [
    "#### GUI"
   ]
  },
  {
   "cell_type": "code",
   "execution_count": 5,
   "metadata": {},
   "outputs": [],
   "source": [
    "from tkinter import *\n",
    "from PIL import ImageTk, Image\n",
    "\n",
    "def run_app(df, customer):\n",
    "    # Create the main window\n",
    "    window = Tk()\n",
    "\n",
    "    # Set the window title\n",
    "    window.title(\"Anotation Helper\")\n",
    "\n",
    "    # Set the window size\n",
    "    window.geometry(\"1920x1080\")\n",
    "    window.state('zoomed')\n",
    "\n",
    "    # Load the image file\n",
    "    #img = Image.open(\"background.jpg\")\n",
    "    img = draw_bboxes(df, customer)\n",
    "\n",
    "    blue,green,red = cv2.split(img)\n",
    "    img = cv2.merge((red,green,blue))\n",
    "    im = Image.fromarray(img)\n",
    "    im = im.resize((1440, 810))\n",
    "    imgtk = ImageTk.PhotoImage(image=im)\n",
    "\n",
    "    # Create a label to display the image\n",
    "    image_label = Label(window, image=imgtk)\n",
    "    image_label.pack()\n",
    "\n",
    "    # Create text widget\n",
    "    T = Text(window, height = 5, width = 52)\n",
    "    customer_text = f\"Customer number: {customer}\"\n",
    "    T.insert(END, customer_text)\n",
    "    T.pack()\n",
    "\n",
    "    #Define a function to close the window\n",
    "    def close_window():\n",
    "        window.destroy()\n",
    "    button = Button(window, text=\"CLOSE\", command=close_window)\n",
    "    button.pack()\n",
    "\n",
    "    # Start the main loop to display the GUI\n",
    "    window.mainloop()"
   ]
  },
  {
   "cell_type": "code",
   "execution_count": 6,
   "metadata": {},
   "outputs": [
    {
     "ename": "KeyboardInterrupt",
     "evalue": "",
     "output_type": "error",
     "traceback": [
      "\u001b[1;31m---------------------------------------------------------------------------\u001b[0m",
      "\u001b[1;31mKeyboardInterrupt\u001b[0m                         Traceback (most recent call last)",
      "Cell \u001b[1;32mIn[6], line 3\u001b[0m\n\u001b[0;32m      1\u001b[0m df \u001b[39m=\u001b[39m load_and_sort_df(TRANSFORMED_DATA_103_PATH)\n\u001b[0;32m      2\u001b[0m \u001b[39mfor\u001b[39;00m customer \u001b[39min\u001b[39;00m df[\u001b[39m\"\u001b[39m\u001b[39mCustomer_id\u001b[39m\u001b[39m\"\u001b[39m]\u001b[39m.\u001b[39munique():\n\u001b[1;32m----> 3\u001b[0m     run_app(df, customer)\n",
      "Cell \u001b[1;32mIn[5], line 42\u001b[0m, in \u001b[0;36mrun_app\u001b[1;34m(df, customer)\u001b[0m\n\u001b[0;32m     39\u001b[0m button\u001b[39m.\u001b[39mpack()\n\u001b[0;32m     41\u001b[0m \u001b[39m# Start the main loop to display the GUI\u001b[39;00m\n\u001b[1;32m---> 42\u001b[0m window\u001b[39m.\u001b[39;49mmainloop()\n",
      "File \u001b[1;32mc:\\Users\\diogo\\AppData\\Local\\Programs\\Python\\Python310\\lib\\tkinter\\__init__.py:1458\u001b[0m, in \u001b[0;36mMisc.mainloop\u001b[1;34m(self, n)\u001b[0m\n\u001b[0;32m   1456\u001b[0m \u001b[39mdef\u001b[39;00m \u001b[39mmainloop\u001b[39m(\u001b[39mself\u001b[39m, n\u001b[39m=\u001b[39m\u001b[39m0\u001b[39m):\n\u001b[0;32m   1457\u001b[0m \u001b[39m    \u001b[39m\u001b[39m\"\"\"Call the mainloop of Tk.\"\"\"\u001b[39;00m\n\u001b[1;32m-> 1458\u001b[0m     \u001b[39mself\u001b[39;49m\u001b[39m.\u001b[39;49mtk\u001b[39m.\u001b[39;49mmainloop(n)\n",
      "\u001b[1;31mKeyboardInterrupt\u001b[0m: "
     ]
    },
    {
     "ename": "",
     "evalue": "",
     "output_type": "error",
     "traceback": [
      "\u001b[1;31mThe Kernel crashed while executing code in the the current cell or a previous cell. Please review the code in the cell(s) to identify a possible cause of the failure. Click <a href='https://aka.ms/vscodeJupyterKernelCrash'>here</a> for more info. View Jupyter <a href='command:jupyter.viewOutput'>log</a> for further details."
     ]
    }
   ],
   "source": [
    "df = load_and_sort_df(TRANSFORMED_DATA_103_PATH)\n",
    "for customer in df[\"Customer_id\"].unique():\n",
    "    run_app(df, customer)"
   ]
  }
 ],
 "metadata": {
  "kernelspec": {
   "display_name": "Python 3",
   "language": "python",
   "name": "python3"
  },
  "language_info": {
   "codemirror_mode": {
    "name": "ipython",
    "version": 3
   },
   "file_extension": ".py",
   "mimetype": "text/x-python",
   "name": "python",
   "nbconvert_exporter": "python",
   "pygments_lexer": "ipython3",
   "version": "3.10.9"
  },
  "orig_nbformat": 4,
  "vscode": {
   "interpreter": {
    "hash": "9a3368dc1a9d53e1625bc039a9d3d861a5e24e3572bad0dea01556bdecd0fdbf"
   }
  }
 },
 "nbformat": 4,
 "nbformat_minor": 2
}
