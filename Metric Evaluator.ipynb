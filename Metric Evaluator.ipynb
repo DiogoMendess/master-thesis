{
 "cells": [
  {
   "cell_type": "code",
   "execution_count": null,
   "metadata": {},
   "outputs": [],
   "source": []
  },
  {
   "cell_type": "code",
   "execution_count": 29,
   "metadata": {},
   "outputs": [],
   "source": [
    "def get_ids_info():\n",
    "    before_reid_counter = 0\n",
    "    after_reid_counter = 0\n",
    "    for i in range(30):\n",
    "        with open(f\"data_examples/example_{i+1}/info_{i+1}.txt\") as f:\n",
    "            line_counter = 0\n",
    "            for line in f:\n",
    "                if line_counter < 3:\n",
    "                    line_counter += 1\n",
    "                    continue\n",
    "                elif line_counter == 3:\n",
    "                    number = line.strip().split(\": \")\n",
    "                    before_reid_counter += int(number[1])\n",
    "                    line_counter += 1\n",
    "                elif line_counter == 4:\n",
    "                    number = line.strip().split(\": \")\n",
    "                    after_reid_counter += int(number[1])\n",
    "                    line_counter += 1\n",
    "    return before_reid_counter, after_reid_counter"
   ]
  },
  {
   "cell_type": "code",
   "execution_count": 30,
   "metadata": {},
   "outputs": [
    {
     "data": {
      "text/plain": [
       "(869, 442)"
      ]
     },
     "execution_count": 30,
     "metadata": {},
     "output_type": "execute_result"
    }
   ],
   "source": [
    "get_ids_info()"
   ]
  }
 ],
 "metadata": {
  "kernelspec": {
   "display_name": "Python 3",
   "language": "python",
   "name": "python3"
  },
  "language_info": {
   "codemirror_mode": {
    "name": "ipython",
    "version": 3
   },
   "file_extension": ".py",
   "mimetype": "text/x-python",
   "name": "python",
   "nbconvert_exporter": "python",
   "pygments_lexer": "ipython3",
   "version": "3.10.9"
  },
  "orig_nbformat": 4
 },
 "nbformat": 4,
 "nbformat_minor": 2
}
