{
 "cells": [
  {
   "cell_type": "code",
   "execution_count": 1,
   "metadata": {},
   "outputs": [],
   "source": [
    "import os\n",
    "import cv2\n",
    "import numpy as np\n",
    "from typing import Generator\n",
    "import pandas as pd"
   ]
  },
  {
   "cell_type": "code",
   "execution_count": 2,
   "metadata": {},
   "outputs": [],
   "source": [
    "TRANSFORMED_DATA_103_PATH = \"C:/Users/diogo/Desktop/Tese/Resultados/transformed_coords_103.csv\"\n",
    "VIDEOS_103_DIR_PATH = \"C:/Users/diogo/Desktop/Tese/Dados/Videos/14.03.2022/20220314_1.03_blurred\"\n",
    "SOURCE_VIDEO_PATH = \"C:/Users/diogo/Desktop/Tese/Dados/Videos/14.03.2022/20220314_1.03_blurred/20220314_1.03_1_11_blurred.mp4\""
   ]
  },
  {
   "attachments": {},
   "cell_type": "markdown",
   "metadata": {},
   "source": [
    "#### Video Utils"
   ]
  },
  {
   "cell_type": "code",
   "execution_count": 3,
   "metadata": {},
   "outputs": [],
   "source": [
    "def get_video_capture(video_path: str) -> cv2.VideoCapture:\n",
    "    return cv2.VideoCapture(video_path)\n",
    "\n",
    "def generate_frames(video_capture: cv2.VideoCapture) -> Generator[np.ndarray, None, None]:\n",
    "    while video_capture.isOpened():\n",
    "        success, frame = video_capture.read()\n",
    "        if not success:\n",
    "            break\n",
    "        yield cv2.cvtColor(frame, cv2.COLOR_BGR2RGB)"
   ]
  },
  {
   "cell_type": "code",
   "execution_count": 4,
   "metadata": {},
   "outputs": [],
   "source": [
    "def load_and_sort_df(path):\n",
    "    df = pd.read_csv(path)\n",
    "    pd.to_datetime(df[\"time\"], format=\"%H:%M:%S\")\n",
    "    return df.sort_values([\"Customer_id\", \"new_frame_id\"], ascending=True, ignore_index=True)\n",
    "    \n",
    "\n",
    "def get_video_numbers_sorted():\n",
    "    videos = os.listdir(VIDEOS_103_DIR_PATH)\n",
    "    video_numbers = []\n",
    "    for video_name in videos:\n",
    "        result = video_name[14:].split(\"_\")\n",
    "        video_numbers.append((int(result[0]), int(result[1])))\n",
    "    return sorted(video_numbers)"
   ]
  },
  {
   "cell_type": "code",
   "execution_count": 5,
   "metadata": {},
   "outputs": [],
   "source": [
    "def analyze_framelist(video_name, frame_list, df_list, row_id):\n",
    "    frame_count = 0\n",
    "    for frame in frame_list:\n",
    "        if frame_count == df_list[row_id][26]: # to_analyze[0][26] corresponde ao new_frame_id\n",
    "            start_point = (int(df_list[row_id][9]), int(df_list[row_id][10]))\n",
    "            end_point = (int(df_list[row_id][11]), int(df_list[row_id][12]))\n",
    "            color = (255, 0, 0)\n",
    "            image_drawn = cv2.rectangle(frame, start_point, end_point, color, thickness=2)\n",
    "            cv2.imshow(\"image drawn\", image_drawn)\n",
    "            pressed_key = cv2.waitKey(0)\n",
    "            cv2.destroyAllWindows()\n",
    "            if(pressed_key == 121): #pressed_key == \"Y\"\n",
    "                customer_id = df_list[row_id][18]\n",
    "                while df_list[row_id][18] == customer_id:\n",
    "                    df_list[row_id].append(video_name)\n",
    "                    print(\"row adicionada = \" + str(df_list[row_id]))\n",
    "                    row_id += 1\n",
    "            else: \n",
    "                break # passa para o prox video \n",
    "\n",
    "        frame_count += 1\n",
    "    return df_list, row_id\n",
    "\n",
    "\n",
    "def anotate_coords(df):\n",
    "    df_list = df.values.tolist()\n",
    "    row_id = 0\n",
    "    for numbers in get_video_numbers_sorted():   #itera pelos videos\n",
    "        video_name = f\"20220314_1.03_{numbers[0]}_{numbers[1]}_blurred.mp4\"\n",
    "        video_capture = get_video_capture(f\"{VIDEOS_103_DIR_PATH}/{video_name}\")\n",
    "        frame_list = list(generate_frames(video_capture))\n",
    "        df_list, row_id = analyze_framelist(video_name, frame_list, df_list, row_id)"
   ]
  },
  {
   "cell_type": "code",
   "execution_count": 6,
   "metadata": {},
   "outputs": [
    {
     "ename": "KeyboardInterrupt",
     "evalue": "",
     "output_type": "error",
     "traceback": [
      "\u001b[1;31m---------------------------------------------------------------------------\u001b[0m",
      "\u001b[1;31mKeyboardInterrupt\u001b[0m                         Traceback (most recent call last)",
      "Cell \u001b[1;32mIn[6], line 2\u001b[0m\n\u001b[0;32m      1\u001b[0m df \u001b[39m=\u001b[39m load_and_sort_df(TRANSFORMED_DATA_103_PATH)\n\u001b[1;32m----> 2\u001b[0m anotate_coords(df)\n",
      "Cell \u001b[1;32mIn[5], line 31\u001b[0m, in \u001b[0;36manotate_coords\u001b[1;34m(df)\u001b[0m\n\u001b[0;32m     29\u001b[0m video_name \u001b[39m=\u001b[39m \u001b[39mf\u001b[39m\u001b[39m\"\u001b[39m\u001b[39m20220314_1.03_\u001b[39m\u001b[39m{\u001b[39;00mnumbers[\u001b[39m0\u001b[39m]\u001b[39m}\u001b[39;00m\u001b[39m_\u001b[39m\u001b[39m{\u001b[39;00mnumbers[\u001b[39m1\u001b[39m]\u001b[39m}\u001b[39;00m\u001b[39m_blurred.mp4\u001b[39m\u001b[39m\"\u001b[39m\n\u001b[0;32m     30\u001b[0m video_capture \u001b[39m=\u001b[39m get_video_capture(\u001b[39mf\u001b[39m\u001b[39m\"\u001b[39m\u001b[39m{\u001b[39;00mVIDEOS_103_DIR_PATH\u001b[39m}\u001b[39;00m\u001b[39m/\u001b[39m\u001b[39m{\u001b[39;00mvideo_name\u001b[39m}\u001b[39;00m\u001b[39m\"\u001b[39m)\n\u001b[1;32m---> 31\u001b[0m frame_list \u001b[39m=\u001b[39m \u001b[39mlist\u001b[39;49m(generate_frames(video_capture))\n\u001b[0;32m     32\u001b[0m df_list, row_id \u001b[39m=\u001b[39m analyze_framelist(video_name, frame_list, df_list, row_id)\n",
      "Cell \u001b[1;32mIn[3], line 6\u001b[0m, in \u001b[0;36mgenerate_frames\u001b[1;34m(video_capture)\u001b[0m\n\u001b[0;32m      4\u001b[0m \u001b[39mdef\u001b[39;00m \u001b[39mgenerate_frames\u001b[39m(video_capture: cv2\u001b[39m.\u001b[39mVideoCapture) \u001b[39m-\u001b[39m\u001b[39m>\u001b[39m Generator[np\u001b[39m.\u001b[39mndarray, \u001b[39mNone\u001b[39;00m, \u001b[39mNone\u001b[39;00m]:\n\u001b[0;32m      5\u001b[0m     \u001b[39mwhile\u001b[39;00m video_capture\u001b[39m.\u001b[39misOpened():\n\u001b[1;32m----> 6\u001b[0m         success, frame \u001b[39m=\u001b[39m video_capture\u001b[39m.\u001b[39;49mread()\n\u001b[0;32m      7\u001b[0m         \u001b[39mif\u001b[39;00m \u001b[39mnot\u001b[39;00m success:\n\u001b[0;32m      8\u001b[0m             \u001b[39mbreak\u001b[39;00m\n",
      "\u001b[1;31mKeyboardInterrupt\u001b[0m: "
     ]
    }
   ],
   "source": [
    "df = load_and_sort_df(TRANSFORMED_DATA_103_PATH)\n",
    "anotate_coords(df)"
   ]
  }
 ],
 "metadata": {
  "kernelspec": {
   "display_name": "Python 3",
   "language": "python",
   "name": "python3"
  },
  "language_info": {
   "codemirror_mode": {
    "name": "ipython",
    "version": 3
   },
   "file_extension": ".py",
   "mimetype": "text/x-python",
   "name": "python",
   "nbconvert_exporter": "python",
   "pygments_lexer": "ipython3",
   "version": "3.10.9"
  },
  "orig_nbformat": 4,
  "vscode": {
   "interpreter": {
    "hash": "9a3368dc1a9d53e1625bc039a9d3d861a5e24e3572bad0dea01556bdecd0fdbf"
   }
  }
 },
 "nbformat": 4,
 "nbformat_minor": 2
}
