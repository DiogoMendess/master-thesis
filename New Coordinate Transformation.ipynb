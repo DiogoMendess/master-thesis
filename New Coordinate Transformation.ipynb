{
 "cells": [
  {
   "cell_type": "code",
   "execution_count": 1,
   "metadata": {},
   "outputs": [],
   "source": [
    "import pandas as pd\n",
    "import matplotlib.pyplot as plt\n",
    "import os\n",
    "import glob\n",
    "import os\n",
    "from datetime import datetime\n",
    "from datetime import timedelta"
   ]
  },
  {
   "attachments": {},
   "cell_type": "markdown",
   "metadata": {},
   "source": [
    "#### Fixed variables"
   ]
  },
  {
   "cell_type": "code",
   "execution_count": 2,
   "metadata": {},
   "outputs": [],
   "source": [
    "# store map size (pixels)\n",
    "STORE_SIZE = [3136, 2475]\n",
    "\n",
    "# camera origin point in store map\n",
    "CAMERA_ORIGIN_POINT = {\"1.03\": (1079, 1219), \"1.04\": (1103, 1420), \"1.05\": (1124, 1419), \"2.05\": (998, 1663), \"2.11\": (1175, 769)}\n",
    "\n",
    "# dimensoes da imagem apenas com a projeção dos pontos de cada camara\n",
    "CAMERA_PROJECTION_SIZE = (500, 550)\n",
    "\n",
    "#hora de inicio de gravação da camara\n",
    "CAMERA_STARTING_TIME = {\"1.03\": \"09:19:33\", \"1.04\": \"07:48:01\", \"1.05\": \"07:12:50\", \"2.05\": \"07:50:30\", \"2.11\": \"08:16:37\"}\n",
    "\n",
    "SAVE_IMG_PATH = \"results/images/printed_coords.png\"\n",
    "SAVE_CSV_PATH = \"results/trajectories/transformed_coords.csv\"\n",
    "TRAJECTORY_DATA_PATH = \"C:/Users/diogo/Desktop/Tese/Dados/trajetorias_novas/14.03.2022/\"\n",
    "MAP_PATH = \"C:/Users/diogo/Desktop/Tese/Dados/floorplan.png\"\n"
   ]
  },
  {
   "attachments": {},
   "cell_type": "markdown",
   "metadata": {},
   "source": [
    "#### Read camera data"
   ]
  },
  {
   "cell_type": "code",
   "execution_count": 3,
   "metadata": {},
   "outputs": [],
   "source": [
    "def read_camera_data(camera):\n",
    "    files = os.path.join(TRAJECTORY_DATA_PATH + str(camera), \"*.csv\")\n",
    "    files = glob.glob(files)\n",
    "    data_from_camera = []\n",
    "    for filename in files:\n",
    "        df = pd.read_csv(filename, low_memory=False, index_col=None, header=0)\n",
    "        df[\"camera\"] = camera\n",
    "        data_from_camera.append(df)\n",
    "    return pd.concat(data_from_camera, axis=0, ignore_index=True)"
   ]
  },
  {
   "attachments": {},
   "cell_type": "markdown",
   "metadata": {},
   "source": [
    "#### Read and concatenate data from all cameras"
   ]
  },
  {
   "cell_type": "code",
   "execution_count": 4,
   "metadata": {},
   "outputs": [],
   "source": [
    "def concatenate_data_all_cameras():\n",
    "    dir_list = os.listdir(TRAJECTORY_DATA_PATH)\n",
    "    remove_words = [\"teste\", \".ipynb_checkpoints\", \".DS_Store\"]\n",
    "    camera_list = list(filter(lambda directory: directory not in remove_words, dir_list))\n",
    "\n",
    "    data_all_cameras = []\n",
    "    for camera in camera_list:\n",
    "        files = os.path.join(TRAJECTORY_DATA_PATH + str(camera), \"*.csv\")\n",
    "        files = glob.glob(files)\n",
    "        for filename in files:\n",
    "            df = pd.read_csv(filename, low_memory=False, index_col=None, header=0)\n",
    "            df[\"camera\"] = camera\n",
    "            data_all_cameras.append(df)\n",
    "\n",
    "    return pd.concat(data_all_cameras, axis=0, ignore_index=True)\n",
    "\n",
    "def concatenate_data_selected_cameras(camera_list):\n",
    "    data_all_cameras = []\n",
    "    for camera in camera_list:\n",
    "        files = os.path.join(TRAJECTORY_DATA_PATH + str(camera), \"*.csv\")\n",
    "        files = glob.glob(files)\n",
    "        for filename in files:\n",
    "            df = pd.read_csv(filename, low_memory=False, index_col=None, header=0)\n",
    "            df[\"camera\"] = camera\n",
    "            data_all_cameras.append(df)\n",
    "\n",
    "    return pd.concat(data_all_cameras, axis=0, ignore_index=True)\n"
   ]
  },
  {
   "attachments": {},
   "cell_type": "markdown",
   "metadata": {},
   "source": [
    "#### Transformations"
   ]
  },
  {
   "cell_type": "code",
   "execution_count": 5,
   "metadata": {},
   "outputs": [],
   "source": [
    "def get_min_and_max_values_per_camera(camera_data):\n",
    "    min_x = min(camera_data[\"x_floorplan\"])\n",
    "    min_y = min(camera_data[\"y_floorplan\"])\n",
    "    max_x = max(camera_data[\"x_floorplan\"])\n",
    "    max_y = max(camera_data[\"y_floorplan\"])\n",
    "    return min_x, min_y, max_x, max_y\n",
    "\n",
    "def get_scale_multiplier(min, max, camera_projection_size):\n",
    "    return camera_projection_size / (max - min)"
   ]
  },
  {
   "cell_type": "code",
   "execution_count": 6,
   "metadata": {},
   "outputs": [],
   "source": [
    "def transform_coordinates(df):\n",
    "    for camera in df[\"camera\"].unique():\n",
    "        origin_x, origin_y = CAMERA_ORIGIN_POINT[camera]\n",
    "        min_x, min_y, max_x, max_y = get_min_and_max_values_per_camera(df[df[\"camera\"] == camera])\n",
    "        scale_multiplier_x = get_scale_multiplier(min_x, max_x, CAMERA_PROJECTION_SIZE[0])\n",
    "        scale_multiplier_y = get_scale_multiplier(min_y, max_y, CAMERA_PROJECTION_SIZE[1])\n",
    "        df.loc[df.camera == camera, 'x_floorplan_new'] = df['x_floorplan'].map(lambda x: ((x + abs(min_x)) * scale_multiplier_x) + origin_x)\n",
    "        df.loc[df.camera == camera, 'y_floorplan_new'] = df['y_floorplan'].map(lambda y: ((y + abs(min_y)) * scale_multiplier_y) + origin_y)\n",
    "        df.loc[df.camera == camera, 'time'] = df.apply(lambda df: calculate_time(get_total_frames(df[\"video_name\"], df[\"frame_id\"], df[\"camera\"]), df[\"camera\"]), axis=1)\n",
    "    return df\n",
    "\n",
    "\n",
    "def get_total_frames(video_name, frame, camera):\n",
    "    video_list = pd.read_csv(f\"results/frame_counter/frame_count_{camera}.csv\").values.tolist()\n",
    "    print(video_list)\n",
    "    frame_count = 0\n",
    "    for _, video, n_frames in video_list:\n",
    "        if video != video_name:\n",
    "            frame_count += n_frames\n",
    "        else:\n",
    "            frame_count += frame\n",
    "            break\n",
    "    return frame_count\n",
    "\n",
    "\n",
    "def calculate_time(total_frames, camera):\n",
    "    seconds = round(total_frames / 6)\n",
    "    start_time = datetime.strptime(CAMERA_STARTING_TIME[camera],\"%H:%M:%S\")\n",
    "    return (start_time + timedelta(seconds=seconds)).time()\n",
    "\n",
    "\n",
    "def print_trajectory(df):\n",
    "    img = plt.imread(MAP_PATH)\n",
    "    fig, ax = plt.subplots()\n",
    "    fig.set_dpi(1200)\n",
    "    ax.imshow(img, extent=[0, STORE_SIZE[0], 0, STORE_SIZE[1]])\n",
    "    plt.scatter(df[\"x_floorplan_new\"], df[\"y_floorplan_new\"], marker=\".\", s=1, lw=0, color=\"blue\")\n",
    "    plt.savefig(SAVE_IMG_PATH, dpi=1200)\n"
   ]
  },
  {
   "attachments": {},
   "cell_type": "markdown",
   "metadata": {},
   "source": [
    "### Transformação e Gravação Dados Câmara 1.03"
   ]
  },
  {
   "cell_type": "code",
   "execution_count": 7,
   "metadata": {},
   "outputs": [
    {
     "data": {
      "text/plain": [
       "'data103 = read_camera_data(\"1.03\")\\nnew_data = transform_coordinates(data103)\\nnew_data.to_csv(\"results/trajectories/transformed_coords_1.03.csv\")\\nprint_trajectory(new_data)'"
      ]
     },
     "execution_count": 7,
     "metadata": {},
     "output_type": "execute_result"
    }
   ],
   "source": [
    "'''data103 = read_camera_data(\"1.03\")\n",
    "new_data = transform_coordinates(data103)\n",
    "new_data.to_csv(\"results/trajectories/transformed_coords_1.03.csv\")\n",
    "print_trajectory(new_data)'''"
   ]
  },
  {
   "attachments": {},
   "cell_type": "markdown",
   "metadata": {},
   "source": [
    "### Transformação e Gravação Dados Câmara 1.04"
   ]
  },
  {
   "cell_type": "code",
   "execution_count": 8,
   "metadata": {},
   "outputs": [],
   "source": [
    "data104 = read_camera_data(\"1.04\")\n",
    "data104 = transform_coordinates(data104)\n",
    "data104.to_csv(\"/results/trajectories/transformed_coords_1.04.csv\")\n",
    "print_trajectory(data104)"
   ]
  },
  {
   "attachments": {},
   "cell_type": "markdown",
   "metadata": {},
   "source": [
    "### Transformação e Gravação Dados Câmara 1.05"
   ]
  },
  {
   "cell_type": "code",
   "execution_count": null,
   "metadata": {},
   "outputs": [
    {
     "data": {
      "text/plain": [
       "'data105 = read_camera_data(\"1.05\")\\ndata105 = transform_coordinates(data105)\\ndata105.to_csv(\"/results/trajectories/transformed_coords_1.05.csv\")\\nprint_trajectory(data105)'"
      ]
     },
     "execution_count": 255,
     "metadata": {},
     "output_type": "execute_result"
    }
   ],
   "source": [
    "'''data105 = read_camera_data(\"1.05\")\n",
    "data105 = transform_coordinates(data105)\n",
    "data105.to_csv(\"/results/trajectories/transformed_coords_1.05.csv\")\n",
    "print_trajectory(data105)'''"
   ]
  },
  {
   "attachments": {},
   "cell_type": "markdown",
   "metadata": {},
   "source": [
    "### Transformação e Gravação Dados Câmara 2.05"
   ]
  },
  {
   "cell_type": "code",
   "execution_count": null,
   "metadata": {},
   "outputs": [
    {
     "data": {
      "text/plain": [
       "'data205 = read_camera_data(\"2.05\")\\ndata205 = transform_coordinates(data205)\\ndata205.to_csv(\"/results/trajectories/transformed_coords_2.05.csv\")\\nprint_trajectory(data205)'"
      ]
     },
     "execution_count": 256,
     "metadata": {},
     "output_type": "execute_result"
    }
   ],
   "source": [
    "'''data205 = read_camera_data(\"2.05\")\n",
    "data205 = transform_coordinates(data205)\n",
    "data205.to_csv(\"/results/trajectories/transformed_coords_2.05.csv\")\n",
    "print_trajectory(data205)'''"
   ]
  },
  {
   "attachments": {},
   "cell_type": "markdown",
   "metadata": {},
   "source": [
    "#### Main - Transformação e Gravação dos dados de todas as Câmaras"
   ]
  },
  {
   "cell_type": "code",
   "execution_count": null,
   "metadata": {},
   "outputs": [
    {
     "data": {
      "text/plain": [
       "'all_data = concatenate_data_all_cameras()\\nnew_data = transform_coordinates(all_data)\\nnew_data.to_csv(SAVE_CSV_PATH)\\nprint_trajectory(new_data)'"
      ]
     },
     "execution_count": 257,
     "metadata": {},
     "output_type": "execute_result"
    }
   ],
   "source": [
    "'''all_data = concatenate_data_all_cameras()\n",
    "new_data = transform_coordinates(all_data)\n",
    "new_data.to_csv(SAVE_CSV_PATH)\n",
    "print_trajectory(new_data)'''"
   ]
  }
 ],
 "metadata": {
  "kernelspec": {
   "display_name": "Python 3",
   "language": "python",
   "name": "python3"
  },
  "language_info": {
   "codemirror_mode": {
    "name": "ipython",
    "version": 3
   },
   "file_extension": ".py",
   "mimetype": "text/x-python",
   "name": "python",
   "nbconvert_exporter": "python",
   "pygments_lexer": "ipython3",
   "version": "3.10.9"
  },
  "orig_nbformat": 4,
  "vscode": {
   "interpreter": {
    "hash": "9a3368dc1a9d53e1625bc039a9d3d861a5e24e3572bad0dea01556bdecd0fdbf"
   }
  }
 },
 "nbformat": 4,
 "nbformat_minor": 2
}
