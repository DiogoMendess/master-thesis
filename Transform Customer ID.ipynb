{
 "cells": [
  {
   "cell_type": "code",
   "execution_count": 34,
   "metadata": {},
   "outputs": [],
   "source": [
    "import pandas as pd\n",
    "import os\n",
    "import glob"
   ]
  },
  {
   "cell_type": "code",
   "execution_count": 35,
   "metadata": {},
   "outputs": [],
   "source": [
    "TRAJECTORY_DATA_PATH = \"C:/Users/diogo/Desktop/Tese/Dados/trajetorias_novas/14.03.2022/\""
   ]
  },
  {
   "cell_type": "code",
   "execution_count": 36,
   "metadata": {},
   "outputs": [],
   "source": [
    "def read_camera_data(camera):\n",
    "    files = os.path.join(TRAJECTORY_DATA_PATH + str(camera), \"*.csv\")\n",
    "    files = glob.glob(files)\n",
    "    for filename in files:\n",
    "        df = pd.read_csv(filename, index_col=[0])\n",
    "        df.drop(df.filter(regex=\"Unname\"),axis=1, inplace=True)\n",
    "        df[\"new_customer_id\"] = df.apply(lambda row: get_new_customer_id(row[\"video_name\"], row[\"customer_id\"]), axis=1)\n",
    "        df.to_csv(filename, index=False)\n",
    "\n",
    "\n",
    "def get_new_customer_id(video_name, customer_id):\n",
    "    numbers = video_name.split(\"_\")\n",
    "    return f\"{numbers[2]}{numbers[3]}{customer_id}\""
   ]
  },
  {
   "cell_type": "code",
   "execution_count": 37,
   "metadata": {},
   "outputs": [],
   "source": [
    "read_camera_data(\"1.03\")\n",
    "read_camera_data(\"1.04\")\n",
    "read_camera_data(\"1.05\")\n",
    "read_camera_data(\"2.05\")"
   ]
  }
 ],
 "metadata": {
  "kernelspec": {
   "display_name": "Python 3",
   "language": "python",
   "name": "python3"
  },
  "language_info": {
   "codemirror_mode": {
    "name": "ipython",
    "version": 3
   },
   "file_extension": ".py",
   "mimetype": "text/x-python",
   "name": "python",
   "nbconvert_exporter": "python",
   "pygments_lexer": "ipython3",
   "version": "3.10.9"
  },
  "orig_nbformat": 4
 },
 "nbformat": 4,
 "nbformat_minor": 2
}
