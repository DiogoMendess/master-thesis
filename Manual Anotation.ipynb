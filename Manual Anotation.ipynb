{
 "cells": [
  {
   "cell_type": "code",
   "execution_count": 56,
   "metadata": {},
   "outputs": [],
   "source": [
    "import os\n",
    "import cv2\n",
    "import numpy as np\n",
    "from typing import Generator\n",
    "import pandas as pd"
   ]
  },
  {
   "cell_type": "code",
   "execution_count": 57,
   "metadata": {},
   "outputs": [],
   "source": [
    "TRANSFORMED_DATA_103_PATH = \"C:/Users/diogo/Desktop/Tese/Resultados/transformed_coords_103.csv\"\n",
    "VIDEOS_103_DIR_PATH = \"C:/Users/diogo/Desktop/Tese/Dados/Videos/14.03.2022/20220314_1.03_blurred\"\n",
    "SOURCE_VIDEO_PATH = \"C:/Users/diogo/Desktop/Tese/Dados/Videos/14.03.2022/20220314_1.03_blurred/20220314_1.03_1_11_blurred.mp4\""
   ]
  },
  {
   "cell_type": "code",
   "execution_count": 58,
   "metadata": {},
   "outputs": [],
   "source": [
    "def load_and_sort_df(path):\n",
    "    df = pd.read_csv(path)\n",
    "    return df.sort_values([\"Customer_id\", \"new_frame_id\"], ascending=True, ignore_index=True)\n",
    "\n",
    "def get_video_capture(video_path: str) -> cv2.VideoCapture:\n",
    "    return cv2.VideoCapture(video_path)\n",
    "\n",
    "def generate_frames(video_capture: cv2.VideoCapture) -> Generator[np.ndarray, None, None]:\n",
    "    while video_capture.isOpened():\n",
    "        success, frame = video_capture.read()\n",
    "        if not success:\n",
    "            break\n",
    "        yield cv2.cvtColor(frame, cv2.COLOR_BGR2RGB)\n",
    "\n",
    "def get_background():\n",
    "    video_name = f\"20220314_1.03_1_1_blurred.mp4\"\n",
    "    video_capture = get_video_capture(f\"{VIDEOS_103_DIR_PATH}/{video_name}\")\n",
    "    frame_list = list(generate_frames(video_capture))\n",
    "    return frame_list[0]"
   ]
  },
  {
   "cell_type": "code",
   "execution_count": 59,
   "metadata": {},
   "outputs": [],
   "source": [
    "def function(df, customer):\n",
    "    customer_data = df.loc[df.Customer_id == customer].values.tolist()\n",
    "    image = get_background()\n",
    "\n",
    "    counter = 0\n",
    "    for row in customer_data:\n",
    "        start_point = (int(row[9]), int(row[10]))\n",
    "        end_point = (int(row[11]), int(row[12]))\n",
    "        color = (255, counter, 0)\n",
    "        image = cv2.rectangle(image, start_point, end_point, color, thickness=2)\n",
    "        counter += 20\n",
    "\n",
    "    cv2.imshow(\"image drawn\", image)\n",
    "    cv2.waitKey(0)\n",
    "    cv2.destroyAllWindows()"
   ]
  },
  {
   "cell_type": "code",
   "execution_count": 60,
   "metadata": {},
   "outputs": [],
   "source": [
    "df = load_and_sort_df(TRANSFORMED_DATA_103_PATH)\n",
    "function(df, 6)"
   ]
  }
 ],
 "metadata": {
  "kernelspec": {
   "display_name": "Python 3",
   "language": "python",
   "name": "python3"
  },
  "language_info": {
   "codemirror_mode": {
    "name": "ipython",
    "version": 3
   },
   "file_extension": ".py",
   "mimetype": "text/x-python",
   "name": "python",
   "nbconvert_exporter": "python",
   "pygments_lexer": "ipython3",
   "version": "3.10.9"
  },
  "orig_nbformat": 4,
  "vscode": {
   "interpreter": {
    "hash": "9a3368dc1a9d53e1625bc039a9d3d861a5e24e3572bad0dea01556bdecd0fdbf"
   }
  }
 },
 "nbformat": 4,
 "nbformat_minor": 2
}
